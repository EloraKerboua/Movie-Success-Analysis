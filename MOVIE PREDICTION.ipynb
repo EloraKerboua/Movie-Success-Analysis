{
 "cells": [
  {
   "cell_type": "code",
   "execution_count": 4,
   "id": "97da538b",
   "metadata": {},
   "outputs": [],
   "source": [
    "import matplotlib.pyplot as plt\n",
    "import pandas as pd\n",
    "import numpy as np\n",
    "from sklearn.compose import ColumnTransformer\n",
    "from sklearn.preprocessing import OneHotEncoder, StandardScaler\n",
    "from sklearn.pipeline import Pipeline\n",
    "from sklearn.linear_model import LinearRegression\n",
    "from ipywidgets import interact, widgets"
   ]
  },
  {
   "cell_type": "code",
   "execution_count": 5,
   "id": "eb258cef",
   "metadata": {},
   "outputs": [],
   "source": [
    "final_cleaned_data = pd.read_csv('final_cleaned_data.csv')"
   ]
  },
  {
   "cell_type": "code",
   "execution_count": 6,
   "id": "f20df9af",
   "metadata": {},
   "outputs": [
    {
     "data": {
      "application/vnd.jupyter.widget-view+json": {
       "model_id": "f595bd7c43f44a3d806cbef5bcf972ed",
       "version_major": 2,
       "version_minor": 0
      },
      "text/plain": [
       "interactive(children=(FloatSlider(value=100000.0, description='Budget', max=1000000000.0, min=100000.0, step=5…"
      ]
     },
     "metadata": {},
     "output_type": "display_data"
    }
   ],
   "source": [
    "# Ensure the data type for categorical variables\n",
    "final_cleaned_data['Budget'] = final_cleaned_data['Budget'].replace('N/A', 0).astype(float)\n",
    "\n",
    "# Convert imdbRating to string if it's not already\n",
    "final_cleaned_data['imdbRating'] = final_cleaned_data['imdbRating'].astype(str)\n",
    "# Replace 'N/A' with '0' and commas with dots, then convert to float\n",
    "final_cleaned_data['imdbRating'] = final_cleaned_data['imdbRating'].replace('N/A', '0').str.replace(',', '.').astype(float)\n",
    "\n",
    "final_cleaned_data['BoxOffice'] = final_cleaned_data['BoxOffice'].replace('N/A', 0).astype(float)\n",
    "\n",
    "# Feature transformation\n",
    "features = final_cleaned_data[['Budget', 'Director', 'Actors', 'Genre']]\n",
    "target = final_cleaned_data[['imdbRating', 'BoxOffice']]\n",
    "\n",
    "column_transformer = ColumnTransformer(transformers=[\n",
    "    ('cat', OneHotEncoder(handle_unknown='ignore'), ['Director', 'Actors', 'Genre']),\n",
    "    ('num', StandardScaler(), ['Budget'])\n",
    "])\n",
    "\n",
    "# Model for IMDb Rating\n",
    "imdb_pipeline = Pipeline(steps=[\n",
    "    ('preprocessor', column_transformer),\n",
    "    ('model', LinearRegression())\n",
    "])\n",
    "\n",
    "imdb_pipeline.fit(features, target['imdbRating'])\n",
    "\n",
    "# Model for BoxOffice\n",
    "box_office_pipeline = Pipeline(steps=[\n",
    "    ('preprocessor', column_transformer),\n",
    "    ('model', LinearRegression())\n",
    "])\n",
    "\n",
    "box_office_pipeline.fit(features, target['BoxOffice'])\n",
    "\n",
    "# Widgets for interactive input\n",
    "budget_widget = widgets.FloatSlider(description='Budget', min=100000, max=1000000000, step=50000)\n",
    "director_widget = widgets.Text(description='Director')\n",
    "actors_widget = widgets.Text(description='Actors')\n",
    "genre_widget = widgets.Text(description='Genre')\n",
    "\n",
    "# Interactive function with visualization\n",
    "def predict_and_visualize(Budget, Director, Actors, Genre):\n",
    "    # Prepare data for prediction\n",
    "    input_data = pd.DataFrame({'Budget': [Budget], 'Director': [Director], 'Actors': [Actors], 'Genre': [Genre]})\n",
    "    \n",
    "    # Predict IMDb Rating\n",
    "    imdb_pred = imdb_pipeline.predict(input_data)\n",
    "    \n",
    "    # Predict BoxOffice Revenue\n",
    "    boxoffice_pred = box_office_pipeline.predict(input_data)\n",
    "    \n",
    "    # Output predictions\n",
    "    print(f\"Predicted IMDb Rating: {imdb_pred[0]:.2f}\")\n",
    "    print(f\"Predicted Box Office Revenue: ${boxoffice_pred[0]:,.2f}\")\n",
    "    \n",
    "    # Plotting the actual vs predicted data\n",
    "    plt.figure(figsize=(14, 6))\n",
    "    \n",
    "    # Actual IMDb ratings vs Budget\n",
    "    plt.subplot(1, 2, 1)\n",
    "    plt.scatter(final_cleaned_data['Budget'], final_cleaned_data['imdbRating'], alpha=0.5, label='Actual Data')\n",
    "    plt.scatter(Budget, imdb_pred, color='red', label='Prediction', s=100)\n",
    "    plt.title('IMDb Rating vs Budget')\n",
    "    plt.xlabel('Budget ($)')\n",
    "    plt.ylabel('IMDb Rating')\n",
    "    plt.legend()\n",
    "    \n",
    "    # Actual Box Office vs Budget\n",
    "    plt.subplot(1, 2, 2)\n",
    "    plt.scatter(final_cleaned_data['Budget'], final_cleaned_data['BoxOffice'], alpha=0.5, label='Actual Data')\n",
    "    plt.scatter(Budget, boxoffice_pred, color='red', label='Prediction', s=100)\n",
    "    plt.title('Box Office vs Budget')\n",
    "    plt.xlabel('Budget ($)')\n",
    "    plt.ylabel('Box Office Revenue ($)')\n",
    "    plt.legend()\n",
    "    \n",
    "    plt.tight_layout()\n",
    "    plt.show()\n",
    "\n",
    "# Interact function with visualization\n",
    "interact(predict_and_visualize,\n",
    "         Budget=budget_widget,\n",
    "         Director=director_widget,\n",
    "         Actors=actors_widget,\n",
    "         Genre=genre_widget);\n"
   ]
  },
  {
   "cell_type": "code",
   "execution_count": null,
   "id": "747aa551",
   "metadata": {},
   "outputs": [],
   "source": []
  }
 ],
 "metadata": {
  "kernelspec": {
   "display_name": "Python 3 (ipykernel)",
   "language": "python",
   "name": "python3"
  },
  "language_info": {
   "codemirror_mode": {
    "name": "ipython",
    "version": 3
   },
   "file_extension": ".py",
   "mimetype": "text/x-python",
   "name": "python",
   "nbconvert_exporter": "python",
   "pygments_lexer": "ipython3",
   "version": "3.11.7"
  }
 },
 "nbformat": 4,
 "nbformat_minor": 5
}
